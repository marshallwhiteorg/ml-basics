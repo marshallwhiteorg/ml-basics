{
 "metadata": {
  "language_info": {
   "codemirror_mode": {
    "name": "ipython",
    "version": 3
   },
   "file_extension": ".py",
   "mimetype": "text/x-python",
   "name": "python",
   "nbconvert_exporter": "python",
   "pygments_lexer": "ipython3",
   "version": "3.8.5"
  },
  "orig_nbformat": 2,
  "kernelspec": {
   "name": "python3",
   "display_name": "Python 3.8.5 64-bit",
   "metadata": {
    "interpreter": {
     "hash": "720651e43e1acb7aa54f4045115d201696ebfa1093cc4b88bbb772570a4023a2"
    }
   }
  }
 },
 "nbformat": 4,
 "nbformat_minor": 2,
 "cells": [
  {
   "cell_type": "code",
   "execution_count": 1,
   "metadata": {},
   "outputs": [],
   "source": [
    "import mnist_loader\n",
    "import network1\n",
    "import importlib\n",
    "\n",
    "def reload(module):\n",
    "    importlib.reload(module)\n",
    "\n",
    "reload(mnist_loader)\n",
    "reload(network1)"
   ]
  },
  {
   "cell_type": "code",
   "execution_count": 3,
   "metadata": {},
   "outputs": [
    {
     "output_type": "stream",
     "name": "stdout",
     "text": [
      "Epoch 0: 9048 / 10000\n",
      "Epoch 1: 9243 / 10000\n",
      "Epoch 2: 9300 / 10000\n",
      "Epoch 3: 9349 / 10000\n",
      "Epoch 4: 9397 / 10000\n",
      "Epoch 5: 9404 / 10000\n",
      "Epoch 6: 9467 / 10000\n",
      "Epoch 7: 9455 / 10000\n",
      "Epoch 8: 9479 / 10000\n",
      "Epoch 9: 9477 / 10000\n",
      "Epoch 10: 9468 / 10000\n",
      "Epoch 11: 9505 / 10000\n",
      "Epoch 12: 9516 / 10000\n",
      "Epoch 13: 9485 / 10000\n",
      "Epoch 14: 9501 / 10000\n",
      "Epoch 15: 9508 / 10000\n",
      "Epoch 16: 9519 / 10000\n",
      "Epoch 17: 9509 / 10000\n",
      "Epoch 18: 9525 / 10000\n",
      "Epoch 19: 9517 / 10000\n",
      "Epoch 20: 9515 / 10000\n",
      "Epoch 21: 9529 / 10000\n",
      "Epoch 22: 9539 / 10000\n",
      "Epoch 23: 9539 / 10000\n",
      "Epoch 24: 9543 / 10000\n",
      "Epoch 25: 9548 / 10000\n",
      "Epoch 26: 9536 / 10000\n",
      "Epoch 27: 9533 / 10000\n",
      "Epoch 28: 9525 / 10000\n",
      "Epoch 29: 9543 / 10000\n"
     ]
    }
   ],
   "source": [
    "training_data, validation_data, test_data = \\\n",
    "mnist_loader.load_data_wrapper()\n",
    "net = network1.Network1([784, 30, 10])\n",
    "net.SGD(training_data, 30, 10, 3.0, validation_data=validation_data)"
   ]
  },
  {
   "cell_type": "code",
   "execution_count": 14,
   "metadata": {},
   "outputs": [
    {
     "output_type": "stream",
     "name": "stdout",
     "text": [
      "Baseline classifier using an SVM.\n9785 of 10000 values correct.\n"
     ]
    }
   ],
   "source": [
    "from sklearn import svm\n",
    "n_train = 50000\n",
    "n_test = 10000\n",
    "(X_train, Y_train), (_, _), (X_test, Y_test) = mnist_loader.load_data()\n",
    "clf = svm.SVC()\n",
    "clf.fit(X_train[:n_train], Y_train[:n_train])\n",
    "predictions = [int(a) for a in clf.predict(X_test[:n_test])]\n",
    "num_correct = sum(int(a == y) for a, y in zip(predictions, Y_test[:n_test]))\n",
    "print(\"Baseline classifier using an SVM.\")\n",
    "print(\"%s of %s values correct.\" % (num_correct, len(Y_test[:n_test])))"
   ]
  },
  {
   "cell_type": "code",
   "execution_count": null,
   "metadata": {},
   "outputs": [],
   "source": []
  }
 ]
}