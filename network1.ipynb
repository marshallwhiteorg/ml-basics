{
 "metadata": {
  "language_info": {
   "codemirror_mode": {
    "name": "ipython",
    "version": 3
   },
   "file_extension": ".py",
   "mimetype": "text/x-python",
   "name": "python",
   "nbconvert_exporter": "python",
   "pygments_lexer": "ipython3",
   "version": "3.8.5"
  },
  "orig_nbformat": 2,
  "kernelspec": {
   "name": "python3",
   "display_name": "Python 3.8.5 64-bit ('rl-pg': conda)",
   "metadata": {
    "interpreter": {
     "hash": "720651e43e1acb7aa54f4045115d201696ebfa1093cc4b88bbb772570a4023a2"
    }
   }
  }
 },
 "nbformat": 4,
 "nbformat_minor": 2,
 "cells": [
  {
   "source": [
    "This notebook is for experimenting with network1."
   ],
   "cell_type": "markdown",
   "metadata": {}
  },
  {
   "cell_type": "code",
   "execution_count": 1,
   "metadata": {},
   "outputs": [],
   "source": [
    "import mnist_loader\n",
    "import network1\n",
    "import importlib\n",
    "\n",
    "def reload(module):\n",
    "    importlib.reload(module)\n",
    "\n",
    "reload(mnist_loader)\n",
    "reload(network1)"
   ]
  },
  {
   "cell_type": "code",
   "execution_count": null,
   "metadata": {},
   "outputs": [],
   "source": [
    "training_data, validation_data, test_data = \\\n",
    "mnist_loader.load_data_wrapper()\n",
    "net = network1.Network1([784, 30, 10])\n",
    "net.SGD(training_data, 30, 10, 3.0, validation_data=validation_data)"
   ]
  }
 ]
}